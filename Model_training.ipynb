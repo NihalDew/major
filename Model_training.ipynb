{
  "nbformat": 4,
  "nbformat_minor": 0,
  "metadata": {
    "colab": {
      "name": "Untitled0.ipynb",
      "provenance": [],
      "collapsed_sections": []
    },
    "kernelspec": {
      "name": "python3",
      "display_name": "Python 3"
    }
  },
  "cells": [
    {
      "cell_type": "code",
      "metadata": {
        "id": "vtr69_koBG2z",
        "colab": {
          "base_uri": "https://localhost:8080/"
        },
        "outputId": "90770b95-5886-4d9f-acb7-d839d9cc532f"
      },
      "source": [
        "from keras.applications import Xception\n",
        "from keras.models import Model\n",
        "from tensorflow.keras.callbacks import TensorBoard\n",
        "from keras.layers import *\n",
        "model = Xception(include_top=False, weights='imagenet', input_shape=[299, 299, 3])\n",
        "print(type(model))\n",
        "for layer in model.layers:\n",
        "  layer.trainable = False\n",
        "x = Flatten()(model.output)\n",
        "prediction = Dense(7, activation='softmax')(x)\n",
        "bac = Model(inputs=model.input, outputs=prediction)\n",
        "print(len(bac.layers))\n",
        "bac.summary()\n",
        "bac.output"
      ],
      "execution_count": null,
      "outputs": []
    },
    {
      "cell_type": "code",
      "metadata": {
        "id": "2FJy9EwMSgzt"
      },
      "source": [
        "log_dir = 'logs/'\n",
        "tensorboard = TensorBoard(\n",
        "  log_dir=log_dir,\n",
        "  histogram_freq=1,\n",
        "  write_images=True\n",
        ")\n",
        "keras_callbacks = [\n",
        "  tensorboard\n",
        "]"
      ],
      "execution_count": null,
      "outputs": []
    },
    {
      "cell_type": "code",
      "metadata": {
        "id": "-wn3jPdDSIhY"
      },
      "source": [
        "i = 0\n",
        "for j in os.listdir():\n",
        "  im = Image.open(j)\n",
        "  imarray = np.array(im)\n",
        "  print(imarray)\n",
        "  im_h, im_w = imarray.shape[:2]\n",
        "  block_h, block_w = 299, 299\n",
        "  for row in np.arange(im_h-block_h+1, step=block_h):\n",
        "      for col in np.arange(im_w-block_w+1, step=block_w):\n",
        "          im1 = imarray[row:row+block_h, col:col+block_w, :]\n",
        "          im1 = Image.fromarray(im1)\n",
        "          global i \n",
        "          # global path\n",
        "          print(im1)\n",
        "          im1.save(\"/content/dataset/train/Proteus.vulgaris/\" + f\"{i}\" + \".png\")\n",
        "          i+=1\n",
        "  print(\"Done\")"
      ],
      "execution_count": null,
      "outputs": []
    },
    {
      "cell_type": "code",
      "metadata": {
        "id": "FCOqeKksWxgP"
      },
      "source": [
        "import keras"
      ],
      "execution_count": null,
      "outputs": []
    },
    {
      "cell_type": "code",
      "metadata": {
        "id": "cVR8dLKn9r9K",
        "colab": {
          "base_uri": "https://localhost:8080/"
        },
        "outputId": "ecd37974-d8ce-4816-ba5e-2b057bf7169c"
      },
      "source": [
        "opt = keras.optimizers.SGD(lr=1e-4, momentum=0.9)\n",
        "bac.compile(\n",
        "  loss='categorical_crossentropy',\n",
        "  optimizer=opt,\n",
        "  metrics=['accuracy']\n",
        ")\n",
        "\n",
        "from keras.preprocessing.image import ImageDataGenerator\n",
        "train_datagen = ImageDataGenerator(rescale = 1./255,\n",
        "                                   shear_range = 0.2,\n",
        "                                   zoom_range = 0.2,\n",
        "                                   horizontal_flip = True)\n",
        "\n",
        "test_datagen = ImageDataGenerator(rescale = 1./255)\n",
        "\n",
        "training_set = train_datagen.flow_from_directory('/content/drive/MyDrive/dataset/train',\n",
        "                                                 target_size = (299, 299),\n",
        "                                                 batch_size = 4,\n",
        "                                                 class_mode = 'categorical')\n",
        "\n",
        "test_set = test_datagen.flow_from_directory('/content/drive/MyDrive/dataset/test',\n",
        "                                            target_size = (299, 299),\n",
        "                                            batch_size = 4,\n",
        "                                            class_mode = 'categorical')\n",
        "\n",
        "label_map = test_set.class_indices\n",
        "print(label_map)"
      ],
      "execution_count": null,
      "outputs": []
    },
    {
      "cell_type": "code",
      "metadata": {
        "id": "lV2q1mWV-qbt",
        "colab": {
          "base_uri": "https://localhost:8080/"
        },
        "outputId": "71898607-5a77-4939-c6a4-308706d371ce"
      },
      "source": [
        "r = bac.fit(\n",
        "  training_set,\n",
        "  validation_data=test_set,\n",
        "  epochs=15,\n",
        "  # steps_per_epoch=,\n",
        "  steps_per_epoch=len(training_set),\n",
        "  validation_steps=len(test_set),\n",
        "  callbacks=keras_callbacks )\n"
      ],
      "execution_count": null,
      "outputs": []
    },
    {
      "cell_type": "code",
      "metadata": {
        "id": "diLyfqmw-6b5",
        "colab": {
          "base_uri": "https://localhost:8080/",
          "height": 530
        },
        "outputId": "4d3d6df9-bf3d-4767-bedb-23c228221afd"
      },
      "source": [
        "import matplotlib.pyplot as plt\n",
        "#loss\n",
        "plt.plot(r.history['loss'], label='train loss')\n",
        "plt.plot(r.history['val_loss'], label='val loss')\n",
        "plt.legend()\n",
        "plt.show()\n",
        "plt.savefig('LossVal_loss')\n",
        "\n",
        "# accuracies\n",
        "plt.plot(r.history['accuracy'], label='train acc')\n",
        "plt.plot(r.history['val_accuracy'], label='val acc')\n",
        "plt.legend()\n",
        "plt.show()\n",
        "plt.savefig('AccVal_acc')\n",
        "\n",
        "\n",
        "import tensorflow as tf\n",
        "\n",
        "from keras.models import load_model\n",
        "\n",
        "bac.save('bac_model_major_project_on_28_apr.h5')"
      ],
      "execution_count": null,
      "outputs": []
    },
    {
      "cell_type": "code",
      "metadata": {
        "id": "Ot08aEtwqgnO"
      },
      "source": [
        "from keras.models import Model\n",
        "from keras.layers import *\n",
        "import tensorflow as tf\n",
        "\n",
        "from keras.models import load_model\n",
        "import numpy as np"
      ],
      "execution_count": null,
      "outputs": []
    },
    {
      "cell_type": "code",
      "metadata": {
        "id": "weyISokPxQTr"
      },
      "source": [
        "from keras.preprocessing.image import load_img\n",
        "from keras.preprocessing.image import img_to_array\n",
        "import numpy as np"
      ],
      "execution_count": null,
      "outputs": []
    },
    {
      "cell_type": "code",
      "metadata": {
        "id": "UbjCL1zoxUCb"
      },
      "source": [
        "image = load_img('597.png')\n",
        "image = img_to_array(image)\n",
        "image = np.expand_dims(image, axis=0)"
      ],
      "execution_count": null,
      "outputs": []
    },
    {
      "cell_type": "code",
      "metadata": {
        "id": "keJT-FjcxxOt"
      },
      "source": [
        "image = (1./255)*image\n",
        "# image"
      ],
      "execution_count": null,
      "outputs": []
    },
    {
      "cell_type": "code",
      "metadata": {
        "id": "oGMkHHCWxzAJ"
      },
      "source": [
        "new = load_model('/content/drive/MyDrive/bac_model_major_project_on_28_apr.h5')"
      ],
      "execution_count": null,
      "outputs": []
    },
    {
      "cell_type": "code",
      "metadata": {
        "id": "WqHDjSTUyDCZ"
      },
      "source": [
        "p = new.predict(image)"
      ],
      "execution_count": null,
      "outputs": []
    },
    {
      "cell_type": "code",
      "metadata": {
        "colab": {
          "base_uri": "https://localhost:8080/"
        },
        "id": "DDkxe4W_yNdJ",
        "outputId": "39eb2baa-274e-4869-eb3d-0848bddae41a"
      },
      "source": [
        "a = 0\n",
        "for i in p:\n",
        "  a = i\n",
        "b = list(a)\n",
        "r = b.index(max(b))\n",
        "if r == 0:\n",
        "  print('Acinetobacter.baumanii')\n",
        "elif r == 1:\n",
        "  print('Actinomyces.israeli')\n",
        "elif r == 2:\n",
        "  print('Clostridium.perfringens')\n",
        "elif r == 3:\n",
        "  print('Escherichia.coli')\n",
        "elif r == 4:\n",
        "  print('Neisseria.gonorrhoeae')\n",
        "elif r == 5:\n",
        "  print('Proteus.vulgaris')\n",
        "else:\n",
        "  print('Staphylococcus.epidermidis')"
      ],
      "execution_count": null,
      "outputs": []
    }
  ]
}